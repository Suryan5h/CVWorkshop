{
  "nbformat": 4,
  "nbformat_minor": 0,
  "metadata": {
    "colab": {
      "provenance": [],
      "authorship_tag": "ABX9TyNGP6aiamiOCFYKxtgeT7t5",
      "include_colab_link": true
    },
    "kernelspec": {
      "name": "python3",
      "display_name": "Python 3"
    },
    "language_info": {
      "name": "python"
    }
  },
  "cells": [
    {
      "cell_type": "markdown",
      "metadata": {
        "id": "view-in-github",
        "colab_type": "text"
      },
      "source": [
        "<a href=\"https://colab.research.google.com/github/Suryan5h/CVWorkshop/blob/main/Computer_Vision.ipynb\" target=\"_parent\"><img src=\"https://colab.research.google.com/assets/colab-badge.svg\" alt=\"Open In Colab\"/></a>"
      ]
    },
    {
      "cell_type": "code",
      "execution_count": 1,
      "metadata": {
        "id": "4bPzWE3pFHqP"
      },
      "outputs": [],
      "source": [
        "from PIL import Image"
      ]
    },
    {
      "cell_type": "code",
      "source": [
        "image = Image.new(\"RGB\",(100,100),(255,255,0))"
      ],
      "metadata": {
        "id": "SgclZYJSFaAP"
      },
      "execution_count": 3,
      "outputs": []
    },
    {
      "cell_type": "code",
      "source": [
        "image"
      ],
      "metadata": {
        "colab": {
          "base_uri": "https://localhost:8080/",
          "height": 117
        },
        "id": "pMDJc_DqGK0v",
        "outputId": "31eb2b8a-25e3-4869-8965-7c2dae816f04"
      },
      "execution_count": 4,
      "outputs": [
        {
          "output_type": "execute_result",
          "data": {
            "text/plain": [
              "<PIL.Image.Image image mode=RGB size=100x100>"
            ],
            "image/png": "[encoded data removed]",
            "image/jpeg": "[encoded data removed]"
          },
          "metadata": {},
          "execution_count": 4
        }
      ]
    },
    {
      "cell_type": "code",
      "source": [
        "print(type(image))\n",
        "print(image.size)\n",
        "print(image.mode)\n",
        "print(image.getbands())"
      ],
      "metadata": {
        "colab": {
          "base_uri": "https://localhost:8080/"
        },
        "id": "SE8AiPzCGUXu",
        "outputId": "fc477e81-2f3b-49a6-a117-671499816f57"
      },
      "execution_count": 5,
      "outputs": [
        {
          "output_type": "stream",
          "name": "stdout",
          "text": [
            "<class 'PIL.Image.Image'>\n",
            "(100, 100)\n",
            "RGB\n",
            "('R', 'G', 'B')\n"
          ]
        }
      ]
    },
    {
      "cell_type": "code",
      "source": [
        "# Create image with orange color\n",
        "image_bw = Image.new(\"L\", (100, 100), (100))"
      ],
      "metadata": {
        "id": "JzW3qYztGe62"
      },
      "execution_count": 7,
      "outputs": []
    },
    {
      "cell_type": "code",
      "source": [
        "image_bw"
      ],
      "metadata": {
        "colab": {
          "base_uri": "https://localhost:8080/",
          "height": 117
        },
        "id": "N_6fdj_RGvTP",
        "outputId": "af351028-5cea-4861-98c7-eac5634b7eca"
      },
      "execution_count": 8,
      "outputs": [
        {
          "output_type": "execute_result",
          "data": {
            "text/plain": [
              "<PIL.Image.Image image mode=L size=100x100>"
            ],
            "image/png": "[encoded data removed]",
            "image/jpeg": "[encoded data removed]"
          },
          "metadata": {},
          "execution_count": 8
        }
      ]
    },
    {
      "cell_type": "code",
      "source": [
        "print(type(image_bw))\n",
        "\n",
        "print(image_bw.size)\n",
        "\n",
        "print(image_bw.mode)\n",
        "\n",
        "print(image_bw.getbands())"
      ],
      "metadata": {
        "colab": {
          "base_uri": "https://localhost:8080/"
        },
        "id": "qhTkUXDvG4AG",
        "outputId": "61a6c8c8-53ef-44ee-ac9e-2c5e6cc580d8"
      },
      "execution_count": 9,
      "outputs": [
        {
          "output_type": "stream",
          "name": "stdout",
          "text": [
            "<class 'PIL.Image.Image'>\n",
            "(100, 100)\n",
            "L\n",
            "('L',)\n"
          ]
        }
      ]
    },
    {
      "cell_type": "markdown",
      "source": [
        "Creating RGB image with NumPy and OpenCV"
      ],
      "metadata": {
        "id": "wTzcysN6G8Fv"
      }
    },
    {
      "cell_type": "code",
      "source": [
        "import numpy as np\n",
        "import cv2"
      ],
      "metadata": {
        "id": "0Dj4klhkHDOn"
      },
      "execution_count": 10,
      "outputs": []
    },
    {
      "cell_type": "code",
      "source": [
        "image_opencv = np.zeros((500,500,3), np.uint8)"
      ],
      "metadata": {
        "id": "a8-UvVvdHG4v"
      },
      "execution_count": 12,
      "outputs": []
    },
    {
      "cell_type": "code",
      "source": [
        "# Fill the image with orange color (BGR values)\n",
        "image_opencv[:] = (0, 100, 255)"
      ],
      "metadata": {
        "id": "gPPsS3PMHRoP"
      },
      "execution_count": 13,
      "outputs": []
    },
    {
      "cell_type": "code",
      "source": [
        "print(image_opencv.shape)\n",
        "print(len(image_opencv))"
      ],
      "metadata": {
        "colab": {
          "base_uri": "https://localhost:8080/"
        },
        "id": "GIiqoECqHWsO",
        "outputId": "7aba5dea-0719-4672-8828-97631cbd14a0"
      },
      "execution_count": 14,
      "outputs": [
        {
          "output_type": "stream",
          "name": "stdout",
          "text": [
            "(500, 500, 3)\n",
            "500\n"
          ]
        }
      ]
    },
    {
      "cell_type": "code",
      "source": [
        "# Display the image\n",
        "from google.colab.patches import cv2_imshow\n",
        "cv2_imshow(image_opencv)"
      ],
      "metadata": {
        "colab": {
          "base_uri": "https://localhost:8080/",
          "height": 517
        },
        "id": "KRWJVfTUHZvu",
        "outputId": "83c6ef10-ce5c-4f16-e9ea-16bcd04521bf"
      },
      "execution_count": 19,
      "outputs": [
        {
          "output_type": "display_data",
          "data": {
            "text/plain": [
              "<PIL.Image.Image image mode=RGB size=500x500>"
            ],
            "image/png": "[encoded data removed]",
            "image/jpeg": "[encoded data removed]"
          },
          "metadata": {}
        }
      ]
    },
    {
      "cell_type": "code",
      "source": [],
      "metadata": {
        "id": "8qJySHhvHb29"
      },
      "execution_count": null,
      "outputs": []
    }
  ]
}